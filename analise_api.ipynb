{
 "cells": [
  {
   "cell_type": "markdown",
   "metadata": {},
   "source": [
    " ##### Quantos feriados há no Brasil em todo o ano de 2024?"
   ]
  },
  {
   "cell_type": "code",
   "execution_count": 175,
   "metadata": {},
   "outputs": [
    {
     "name": "stdout",
     "output_type": "stream",
     "text": [
      "Número total de feriados no Brasil em 2024: 14\n",
      "\n",
      "01/01/2024: Confraternização Universal\n",
      "12/02/2024: Carnaval\n",
      "13/02/2024: Carnaval\n",
      "29/03/2024: Sexta-feira Santa\n",
      "31/03/2024: Domingo de Páscoa\n",
      "21/04/2024: Dia de Tiradentes\n",
      "01/05/2024: Dia do Trabalhador\n",
      "30/05/2024: Corpus Christi\n",
      "09/07/2024: Revolução Constitucionalista de 1932\n",
      "07/09/2024: Dia da Independência\n",
      "12/10/2024: Nossa Senhora Aparecida\n",
      "02/11/2024: Dia de Finados\n",
      "15/11/2024: Proclamação da República\n",
      "25/12/2024: Natal\n"
     ]
    }
   ],
   "source": [
    "import requests\n",
    "from datetime import datetime\n",
    "\n",
    "# Definição da URL da API \n",
    "url = \"https://date.nager.at/api/v3/publicholidays/2024/BR\"\n",
    "# Requisição da URL\n",
    "response = requests.get(url)\n",
    "\n",
    "if response.status_code == 200:\n",
    "    feriados = response.json()\n",
    "    datas_feriados = [] \n",
    "    print(f\"Número total de feriados no Brasil em 2024: {len(feriados)}\\n\")\n",
    "    for feriado in feriados:\n",
    "        data_formatada = datetime.strptime(feriado['date'], \"%Y-%m-%d\").strftime(\"%d/%m/%Y\")\n",
    "        print(f\"{data_formatada}: {feriado['localName']}\")\n",
    "        datas_feriados.append(data_formatada)"
   ]
  },
  {
   "cell_type": "markdown",
   "metadata": {},
   "source": [
    " ##### Qual mês de 2024 tem o maior número de feriados?"
   ]
  },
  {
   "cell_type": "code",
   "execution_count": 176,
   "metadata": {},
   "outputs": [
    {
     "name": "stdout",
     "output_type": "stream",
     "text": [
      "Os meses com o maior número de feriados em 2024 são: fevereiro, marÃ§o, maio, novembro, com 2 feriados cada\n"
     ]
    }
   ],
   "source": [
    "from collections import Counter\n",
    "import locale\n",
    "\n",
    "# Colocando a biblioteca locale para portugues do Brasil\n",
    "locale.setlocale(locale.LC_TIME, 'pt_BR.UTF-8')\n",
    "contagem_por_mes = Counter()\n",
    "\n",
    "for feriado in feriados:\n",
    "        data_formatada = datetime.strptime(feriado['date'], \"%Y-%m-%d\")\n",
    "        # Incrementando o contador para contar todos os meses\n",
    "        contagem_por_mes[data_formatada.month] += 1\n",
    "    \n",
    "# Encontrando o número de feriados em um mês\n",
    "max_feriados = max(contagem_por_mes.values())\n",
    "\n",
    "# Encontrando todos os meses que têm o número máximo de feriadosjá que mais de um mês pode ter a quantidade máxima de feriados\n",
    "meses_com_mais_feriados = [mes for mes, count in contagem_por_mes.items() if count == max_feriados]\n",
    "\n",
    "# Convertendo os meses que estão em números para nomes\n",
    "meses_nomes = [datetime(2024, mes, 1).strftime('%B') for mes in meses_com_mais_feriados]\n",
    "\n",
    "print(f\"Os meses com o maior número de feriados em 2024 são: {', '.join(meses_nomes)}, com {max_feriados} feriados cada\")\n"
   ]
  },
  {
   "cell_type": "markdown",
   "metadata": {},
   "source": [
    " ##### Quantos feriados em 2024 caem em dias de semana (segunda a sexta-feira)?"
   ]
  },
  {
   "cell_type": "code",
   "execution_count": 177,
   "metadata": {},
   "outputs": [
    {
     "name": "stdout",
     "output_type": "stream",
     "text": [
      "Há 9 feriados que caem em dias de semana no Brasil em 2024\n"
     ]
    }
   ],
   "source": [
    "feriados_dias_de_semana = 0\n",
    "for feriado in feriados:\n",
    "        data_formatada = datetime.strptime(feriado['date'], \"%Y-%m-%d\")\n",
    "        # Verificando se o feriado cai em um dia de semana \n",
    "        if data_formatada.weekday() < 5:  # 0 = segunda 4 = sexta\n",
    "            feriados_dias_de_semana += 1\n",
    "    \n",
    "print(f\"Há {feriados_dias_de_semana} feriados que caem em dias de semana no Brasil em 2024\")\n"
   ]
  },
  {
   "cell_type": "markdown",
   "metadata": {},
   "source": [
    " ##### Qual foi a temperatura média em cada mês?"
   ]
  },
  {
   "cell_type": "code",
   "execution_count": 178,
   "metadata": {},
   "outputs": [
    {
     "name": "stdout",
     "output_type": "stream",
     "text": [
      "Temperaturas médias por mês: \n",
      "janeiro: 26.75°C\n",
      "fevereiro: 27.27°C\n",
      "marÃ§o: 26.47°C\n",
      "abril: 25.22°C\n",
      "maio: 25.06°C\n",
      "junho: 22.70°C\n",
      "julho: 21.15°C\n",
      "agosto: 21.30°C\n"
     ]
    }
   ],
   "source": [
    "start_date = \"2024-01-01\"\n",
    "end_date = \"2024-08-01\"\n",
    "\n",
    "# Latitude e longitude encontrados aqui https://pt.db-city.com/Brasil--Rio-de-Janeiro--Rio-de-Janeiro\n",
    "latitude = -22.9035\n",
    "longitude = -43.2096\n",
    "\n",
    "# Definição da URL da API \n",
    "url = f\"https://archive-api.open-meteo.com/v1/archive?latitude={latitude}&longitude={longitude}&start_date={start_date}&end_date={end_date}&daily=temperature_2m_mean&timezone=America/Sao_Paulo\"\n",
    "# Requisição da URL\n",
    "response = requests.get(url)\n",
    "\n",
    "if response.status_code == 200:\n",
    "    dados = response.json()\n",
    "    \n",
    "    # Extraindo as temperaturas médias diárias e suas datas\n",
    "    temperaturas_medias = dados[\"daily\"][\"temperature_2m_mean\"]\n",
    "    datas = dados[\"daily\"][\"time\"]\n",
    "\n",
    "    soma_temperaturas = {}\n",
    "    contagem_dias = {}\n",
    "\n",
    "    for i in range(len(datas)):\n",
    "        data_atual = datetime.strptime(datas[i], \"%Y-%m-%d\")\n",
    "        mes = data_atual.strftime(\"%Y-%m\")\n",
    "        \n",
    "        if mes not in soma_temperaturas:\n",
    "            soma_temperaturas[mes] = 0.0\n",
    "            contagem_dias[mes] = 0\n",
    "        \n",
    "        soma_temperaturas[mes] += temperaturas_medias[i]\n",
    "        contagem_dias[mes] += 1\n",
    "# Calcula a média das temperaturas para cada mês dividindo a soma das temperaturas pelo número de dias.\n",
    "    temperaturas_medias_mensais = {mes: soma_temperaturas[mes] / contagem_dias[mes] for mes in soma_temperaturas}\n",
    "    \n",
    "# Ordena os meses e imprime a temperatura média mensal para cada um\n",
    "    print(\"Temperaturas médias por mês: \")\n",
    "    for mes, temperatura_media in sorted(temperaturas_medias_mensais.items()):\n",
    "        ano, mes_num = mes.split('-')\n",
    "        nome_mes = datetime(int(ano), int(mes_num), 1).strftime('%B')\n",
    "        print(f\"{nome_mes}: {temperatura_media:.2f}°C\")\n"
   ]
  },
  {
   "cell_type": "markdown",
   "metadata": {},
   "source": [
    "##### Qual foi o tempo predominante em cada mês nesse período?\n"
   ]
  },
  {
   "cell_type": "code",
   "execution_count": 179,
   "metadata": {},
   "outputs": [
    {
     "name": "stdout",
     "output_type": "stream",
     "text": [
      "Tempo predominante por mês: \n",
      "janeiro: Rain\n",
      "fevereiro: Light Drizzle\n",
      "marÃ§o: Light Drizzle\n",
      "abril: Cloudy\n",
      "maio: Light Drizzle\n",
      "junho: Mainly Sunny\n",
      "julho: Cloudy\n",
      "agosto: Partly Cloudy\n"
     ]
    }
   ],
   "source": [
    "import json\n",
    "\n",
    "# Mapeamento dos códigos de tempo para suas descrições\n",
    "with open(r\"C:\\Users\\Ana Luiza\\Desktop\\Git\\emd-desafio-junior-data-scientist\\descriptions.json\", 'r') as file:\n",
    "    dados_json = json.load(file)\n",
    "codigo_para_descricao = {int(key): value['day']['description'] for key, value in dados_json.items()}\n",
    "\n",
    "# Definição da URL da API \n",
    "url = f\"https://archive-api.open-meteo.com/v1/archive?latitude={latitude}&longitude={longitude}&start_date={start_date}&end_date={end_date}&daily=weathercode&timezone=America/Sao_Paulo\"\n",
    "\n",
    "# Requisição da URL\n",
    "response = requests.get(url)\n",
    "\n",
    "if response.status_code == 200:\n",
    "    dados = response.json()\n",
    "\n",
    "    # Extraindo os tempos diários e as datas\n",
    "    codigos_tempo = dados[\"daily\"][\"weathercode\"]\n",
    "    datas = dados[\"daily\"][\"time\"]\n",
    "\n",
    "    contagem_codigos = {}\n",
    "\n",
    "    for i in range(len(datas)):\n",
    "        data_atual = datetime.strptime(datas[i], \"%Y-%m-%d\")\n",
    "        mes = data_atual.strftime(\"%Y-%m\")\n",
    "        \n",
    "        if mes not in contagem_codigos:\n",
    "            contagem_codigos[mes] = Counter()\n",
    "\n",
    "        contagem_codigos[mes][codigos_tempo[i]] += 1\n",
    "\n",
    "    print(\"Tempo predominante por mês: \" )\n",
    "\n",
    " # Determinar o tempo predominante por mês\n",
    "    tempo_predominante = {}\n",
    "    for mes, contagem in contagem_codigos.items():\n",
    "        # Encontrar o código de tempo mais frequente no mês\n",
    "        codigo_mais_frequente = contagem.most_common(1)[0][0]\n",
    "        descricao_mais_frequente = codigo_para_descricao.get(codigo_mais_frequente, \"Desconhecido\")\n",
    "        \n",
    "        ano, mes_num = mes.split('-')\n",
    "        mes_num = int(mes_num)\n",
    "        ano = int(ano)\n",
    "        mes_nome = datetime(ano, mes_num, 1).strftime(\"%B\")\n",
    "        tempo_predominante[(ano, mes_num)] = descricao_mais_frequente\n",
    "\n",
    "    for (ano, mes_num), descricao in sorted(tempo_predominante.items()):\n",
    "        mes_nome = datetime(ano, mes_num, 1).strftime(\"%B\")\n",
    "        print(f\"{mes_nome}: {descricao}\")"
   ]
  },
  {
   "cell_type": "code",
   "execution_count": 180,
   "metadata": {},
   "outputs": [],
   "source": [
    "\n",
    "datas_feriados_formatada = []\n",
    "\n",
    "for data in datas_feriados:\n",
    "    data_obj = datetime.strptime(data, \"%d/%m/%Y\")\n",
    "    data_formatada = data_obj.strftime(\"%Y-%m-%d\")\n",
    "    datas_feriados_formatada.append(data_formatada)"
   ]
  },
  {
   "cell_type": "code",
   "execution_count": 181,
   "metadata": {},
   "outputs": [],
   "source": [
    "hoje = datetime.now().strftime(\"%Y-%m-%d\")"
   ]
  },
  {
   "cell_type": "markdown",
   "metadata": {},
   "source": [
    "##### Qual foi o tempo e a temperatura média em cada feriado de 01/01/2024 a 01/08/2024?"
   ]
  },
  {
   "cell_type": "code",
   "execution_count": 182,
   "metadata": {},
   "outputs": [
    {
     "name": "stdout",
     "output_type": "stream",
     "text": [
      "         Data Temp Média          Tempo\n",
      "0  01/01/2024    24.90°C  Light Drizzle\n",
      "1  12/02/2024    30.20°C   Mainly Sunny\n",
      "2  13/02/2024    30.60°C  Light Drizzle\n",
      "3  29/03/2024    25.10°C     Light Rain\n",
      "4  31/03/2024    24.60°C        Drizzle\n",
      "5  21/04/2024    23.10°C  Partly Cloudy\n",
      "6  01/05/2024    28.20°C          Sunny\n",
      "7  30/05/2024    20.80°C  Light Drizzle\n",
      "8  09/07/2024    21.50°C        Drizzle\n"
     ]
    }
   ],
   "source": [
    "import pandas as pd\n",
    "\n",
    "def obter_dados_climaticos(data):\n",
    "    url = f\"https://archive-api.open-meteo.com/v1/archive?latitude={latitude}&longitude={longitude}&start_date={data}&end_date={data}&daily=temperature_2m_mean,weathercode&timezone=America/Sao_Paulo\"\n",
    "    response = requests.get(url)\n",
    "    if response.status_code == 200:\n",
    "        return response.json()\n",
    "    else:\n",
    "        print(f\"Erro ao obter dados climáticos para {data}: {response.status_code} - {response.text}\")\n",
    "        return None\n",
    "datas = []\n",
    "temperaturas = []\n",
    "tempos = []\n",
    "\n",
    "# Filtrar e obter dados climáticos para feriados antes da data de hoje\n",
    "for data in datas_feriados_formatada:\n",
    "    if data < hoje:\n",
    "        dados_climaticos = obter_dados_climaticos(data)\n",
    "        if dados_climaticos:\n",
    "            temperatura_media = dados_climaticos[\"daily\"][\"temperature_2m_mean\"][0]\n",
    "            codigo_tempo = dados_climaticos[\"daily\"][\"weathercode\"][0]\n",
    "            descricao_tempo = codigo_para_descricao.get(codigo_tempo, \"Desconhecido\")\n",
    "            \n",
    "            # Adicionar os dados às listas\n",
    "            datas.append(data)\n",
    "            temperaturas.append(f\"{temperatura_media:.2f}°C\")\n",
    "            tempos.append(descricao_tempo)\n",
    "\n",
    "datas_formatadas = [datetime.strptime(data, \"%Y-%m-%d\").strftime(\"%d/%m/%Y\") for data in datas]\n",
    "\n",
    "df = pd.DataFrame({\n",
    "    \"Data\": datas_formatadas,\n",
    "    \"Temp Média\": temperaturas,\n",
    "    \"Tempo\": tempos\n",
    "})\n",
    "\n",
    "print(df)"
   ]
  },
  {
   "cell_type": "markdown",
   "metadata": {},
   "source": [
    "###### Considere as seguintes suposições:\n",
    "###### O cidadão carioca considera \"frio\" um dia cuja temperatura média é menor que 20ºC;\n",
    "###### Um feriado bem aproveitado no Rio de Janeiro é aquele em que se pode ir à praia;\n",
    "###### O cidadão carioca só vai à praia quando não está com frio;\n",
    "###### O cidadão carioca também só vai à praia em dias com sol, evitando dias totalmente nublados ou chuvosos (considere weather_code para determinar as condições climáticas).\n",
    "##### Houve algum feriado \"não aproveitável\" em 2024? Se sim, qual(is)?"
   ]
  },
  {
   "cell_type": "code",
   "execution_count": 183,
   "metadata": {},
   "outputs": [
    {
     "name": "stdout",
     "output_type": "stream",
     "text": [
      "Feriado \"não aproveitável\" em 2024:\n",
      "         Data Temp Média       Tempo\n",
      "3  29/03/2024    25.10°C  Light Rain\n",
      "4  31/03/2024    24.60°C     Drizzle\n",
      "8  09/07/2024    21.50°C     Drizzle\n"
     ]
    }
   ],
   "source": [
    "tempos_a_evitar = [\"Cloudy\", \"Light drizzle\", \"Drizzle\", \"Heavy Drizzle\",\"Light Freezing Drizzle\", \"Freezing Drizzle\",\"Light Rain\", \"Rain\", \"Heavy Rain\", \"Light Freezing Rain\", \"Freezing Rain\", \n",
    "                    \"Light Showers\", \"Showers\", \"Heavy Showers\", \"Thunderstorm\", \"Light Thunderstorms With Hail\", \"Thunderstorm With Hail\",\"Light rain showers\"]\n",
    "\n",
    "df['Temp Média Numero'] = df['Temp Média'].str.replace('°C', '', regex=False)\n",
    "df['Temp Média Numero'] = pd.to_numeric(df['Temp Média Numero'], errors='coerce')\n",
    "filtered_df2 = df\n",
    "filtered_df = df[df['Tempo'].isin(tempos_a_evitar) | (df['Temp Média Numero'] < 20.0)]\n",
    "filtered_df = filtered_df.drop(columns=\"Temp Média Numero\")\n",
    "\n",
    "if len(filtered_df) == 0 :\n",
    "    print(\"Não houve nenhum feriado \\\"não aproveitável\\\" em 2024\")\n",
    "else:\n",
    "    print(\"Feriado \\\"não aproveitável\\\" em 2024:\")\n",
    "    print(filtered_df)"
   ]
  },
  {
   "cell_type": "markdown",
   "metadata": {},
   "source": [
    "Qual foi o feriado \"mais aproveitável\" de 2024?\n",
    "Considere o melhor par tempo e temperatura."
   ]
  },
  {
   "cell_type": "code",
   "execution_count": 184,
   "metadata": {},
   "outputs": [
    {
     "name": "stdout",
     "output_type": "stream",
     "text": [
      "Data                   12/02/2024\n",
      "Temp Média                30.20°C\n",
      "Tempo                Mainly Sunny\n",
      "Temp Média Numero            30.2\n",
      "Peso Tempo                     26\n",
      "Score                        56.2\n",
      "Name: 1, dtype: object\n"
     ]
    }
   ],
   "source": [
    "#Definindo pesos para os tempos, sendo o primeiro (ensolarado) o item com maior peso\n",
    "pesos_tempo = {\n",
    "    'Sunny': 27,\n",
    "    'Mainly Sunny': 26,\n",
    "    'Partly Cloudy': 25,\n",
    "    'Cloudy': 24,\n",
    "    'Foggy': 23,\n",
    "    'Rime Fog': 22,\n",
    "    'Light Drizzle': 21,\n",
    "    'Drizzle': 20,\n",
    "    'Heavy Drizzle': 19,\n",
    "    'Light Freezing Drizzle': 18,\n",
    "    'Freezing Drizzle': 17,\n",
    "    'Light Rain': 16,\n",
    "    'Rain': 15,\n",
    "    'Heavy Rain': 14,\n",
    "    'Light Freezing Rain': 13,\n",
    "    'Freezing Rain': 12,\n",
    "    'Light Snow': 11,\n",
    "    'Snow': 10,\n",
    "    'Heavy Snow': 9,\n",
    "    'Snow Grains': 8,\n",
    "    'Light Showers': 7,\n",
    "    'Showers': 6,\n",
    "    'Heavy Showers': 5,\n",
    "    'Light Snow Showers': 4,\n",
    "    'Snow Showers': 3,\n",
    "    'Thunderstorm': 2,\n",
    "    'Light Thunderstorms With Hail': 1,\n",
    "    'Thunderstorm With Hail': 0\n",
    "}\n",
    "\n",
    "filtered_df2['Peso Tempo'] = filtered_df2['Tempo'].map(pesos_tempo)\n",
    "\n",
    "# Fazendo um score final com o peso do Tempo e da Temperatura Médiia\n",
    "filtered_df2['Score'] = filtered_df2['Temp Média Numero'] + filtered_df2['Peso Tempo']\n",
    "# Definindo a melhor data\n",
    "melhor_data = filtered_df2.loc[filtered_df2['Score'].idxmax()]\n",
    "\n",
    "filtered_df2 = filtered_df2.drop(columns='Temp Média Numero')\n",
    "filtered_df2 = filtered_df2.sort_values(by='Score', ascending=False)\n",
    "\n",
    "print(melhor_data)"
   ]
  },
  {
   "cell_type": "code",
   "execution_count": 185,
   "metadata": {},
   "outputs": [
    {
     "data": {
      "text/html": [
       "<div>\n",
       "<style scoped>\n",
       "    .dataframe tbody tr th:only-of-type {\n",
       "        vertical-align: middle;\n",
       "    }\n",
       "\n",
       "    .dataframe tbody tr th {\n",
       "        vertical-align: top;\n",
       "    }\n",
       "\n",
       "    .dataframe thead th {\n",
       "        text-align: right;\n",
       "    }\n",
       "</style>\n",
       "<table border=\"1\" class=\"dataframe\">\n",
       "  <thead>\n",
       "    <tr style=\"text-align: right;\">\n",
       "      <th></th>\n",
       "      <th>Data</th>\n",
       "      <th>Temp Média</th>\n",
       "      <th>Tempo</th>\n",
       "      <th>Peso Tempo</th>\n",
       "      <th>Score</th>\n",
       "    </tr>\n",
       "  </thead>\n",
       "  <tbody>\n",
       "    <tr>\n",
       "      <th>1</th>\n",
       "      <td>12/02/2024</td>\n",
       "      <td>30.20°C</td>\n",
       "      <td>Mainly Sunny</td>\n",
       "      <td>26</td>\n",
       "      <td>56.2</td>\n",
       "    </tr>\n",
       "    <tr>\n",
       "      <th>6</th>\n",
       "      <td>01/05/2024</td>\n",
       "      <td>28.20°C</td>\n",
       "      <td>Sunny</td>\n",
       "      <td>27</td>\n",
       "      <td>55.2</td>\n",
       "    </tr>\n",
       "    <tr>\n",
       "      <th>2</th>\n",
       "      <td>13/02/2024</td>\n",
       "      <td>30.60°C</td>\n",
       "      <td>Light Drizzle</td>\n",
       "      <td>21</td>\n",
       "      <td>51.6</td>\n",
       "    </tr>\n",
       "    <tr>\n",
       "      <th>5</th>\n",
       "      <td>21/04/2024</td>\n",
       "      <td>23.10°C</td>\n",
       "      <td>Partly Cloudy</td>\n",
       "      <td>25</td>\n",
       "      <td>48.1</td>\n",
       "    </tr>\n",
       "    <tr>\n",
       "      <th>0</th>\n",
       "      <td>01/01/2024</td>\n",
       "      <td>24.90°C</td>\n",
       "      <td>Light Drizzle</td>\n",
       "      <td>21</td>\n",
       "      <td>45.9</td>\n",
       "    </tr>\n",
       "    <tr>\n",
       "      <th>4</th>\n",
       "      <td>31/03/2024</td>\n",
       "      <td>24.60°C</td>\n",
       "      <td>Drizzle</td>\n",
       "      <td>20</td>\n",
       "      <td>44.6</td>\n",
       "    </tr>\n",
       "    <tr>\n",
       "      <th>7</th>\n",
       "      <td>30/05/2024</td>\n",
       "      <td>20.80°C</td>\n",
       "      <td>Light Drizzle</td>\n",
       "      <td>21</td>\n",
       "      <td>41.8</td>\n",
       "    </tr>\n",
       "    <tr>\n",
       "      <th>8</th>\n",
       "      <td>09/07/2024</td>\n",
       "      <td>21.50°C</td>\n",
       "      <td>Drizzle</td>\n",
       "      <td>20</td>\n",
       "      <td>41.5</td>\n",
       "    </tr>\n",
       "    <tr>\n",
       "      <th>3</th>\n",
       "      <td>29/03/2024</td>\n",
       "      <td>25.10°C</td>\n",
       "      <td>Light Rain</td>\n",
       "      <td>16</td>\n",
       "      <td>41.1</td>\n",
       "    </tr>\n",
       "  </tbody>\n",
       "</table>\n",
       "</div>"
      ],
      "text/plain": [
       "         Data Temp Média          Tempo  Peso Tempo  Score\n",
       "1  12/02/2024    30.20°C   Mainly Sunny          26   56.2\n",
       "6  01/05/2024    28.20°C          Sunny          27   55.2\n",
       "2  13/02/2024    30.60°C  Light Drizzle          21   51.6\n",
       "5  21/04/2024    23.10°C  Partly Cloudy          25   48.1\n",
       "0  01/01/2024    24.90°C  Light Drizzle          21   45.9\n",
       "4  31/03/2024    24.60°C        Drizzle          20   44.6\n",
       "7  30/05/2024    20.80°C  Light Drizzle          21   41.8\n",
       "8  09/07/2024    21.50°C        Drizzle          20   41.5\n",
       "3  29/03/2024    25.10°C     Light Rain          16   41.1"
      ]
     },
     "execution_count": 185,
     "metadata": {},
     "output_type": "execute_result"
    }
   ],
   "source": [
    "# Outros Scores\n",
    "filtered_df2"
   ]
  }
 ],
 "metadata": {
  "kernelspec": {
   "display_name": "Python 3",
   "language": "python",
   "name": "python3"
  },
  "language_info": {
   "codemirror_mode": {
    "name": "ipython",
    "version": 3
   },
   "file_extension": ".py",
   "mimetype": "text/x-python",
   "name": "python",
   "nbconvert_exporter": "python",
   "pygments_lexer": "ipython3",
   "version": "3.6.8"
  }
 },
 "nbformat": 4,
 "nbformat_minor": 2
}
